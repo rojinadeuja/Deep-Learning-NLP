{
  "nbformat": 4,
  "nbformat_minor": 0,
  "metadata": {
    "colab": {
      "name": "Untitled0.ipynb",
      "provenance": [],
      "authorship_tag": "ABX9TyNWD2G3wo5jCEd2TO0ljE03",
      "include_colab_link": true
    },
    "kernelspec": {
      "name": "python3",
      "display_name": "Python 3"
    }
  },
  "cells": [
    {
      "cell_type": "markdown",
      "metadata": {
        "id": "view-in-github",
        "colab_type": "text"
      },
      "source": [
        "<a href=\"https://colab.research.google.com/github/rojinadeuja/NLP-Deep-Learning/blob/main/CNN-Sentiment-Analysis-Moview-Review.ipynb\" target=\"_parent\"><img src=\"https://colab.research.google.com/assets/colab-badge.svg\" alt=\"Open In Colab\"/></a>"
      ]
    },
    {
      "cell_type": "markdown",
      "metadata": {
        "id": "Gegp_oLeOKjx"
      },
      "source": [
        "## Import Required Modules"
      ]
    },
    {
      "cell_type": "code",
      "metadata": {
        "id": "omuzT15qFt2e"
      },
      "source": [
        "import keras\n",
        "from keras.datasets import imdb\n",
        "from keras.preprocessing.sequence import pad_sequences\n",
        "from keras.models import Sequential\n",
        "from keras.layers import Dense, Flatten, Dropout, Activation\n",
        "from keras.layers import Embedding, Conv1D, SpatialDropout1D, GlobalMaxPool1D\n",
        "from keras.callbacks import ModelCheckpoint\n",
        "import os\n",
        "import sklearn.metrics\n",
        "from sklearn.metrics import roc_auc_score\n",
        "import pandas as pd\n",
        "import matplotlib.pyplot as plt"
      ],
      "execution_count": 1,
      "outputs": []
    },
    {
      "cell_type": "code",
      "metadata": {
        "id": "cADHM8UDH7h8",
        "outputId": "4f4699a4-1960-4775-8b55-2d5e604741bf",
        "colab": {
          "base_uri": "https://localhost:8080/"
        }
      },
      "source": [
        "from google.colab import drive\n",
        "drive.mount('/content/drive')"
      ],
      "execution_count": 2,
      "outputs": [
        {
          "output_type": "stream",
          "text": [
            "Mounted at /content/drive\n"
          ],
          "name": "stdout"
        }
      ]
    },
    {
      "cell_type": "markdown",
      "metadata": {
        "id": "r7lsgMQdOOPY"
      },
      "source": [
        "## Set Hyperparameters"
      ]
    },
    {
      "cell_type": "code",
      "metadata": {
        "id": "DqKCAaW3HUYC"
      },
      "source": [
        "output_dir = '/content/drive/My Drive/Colab Notebooks/'\n",
        "epochs = 4\n",
        "batch_size = 128\n",
        "n_dim = 64\n",
        "n_unique_words = 5000\n",
        "n_words_to_skip = 50\n",
        "max_review_length = 200\n",
        "pad_type = trunc_type = 'pre'\n",
        "drop_embed = 0.2\n",
        "n_dense = 256\n",
        "dropout = 0.2\n",
        "n_conv = 256\n",
        "k_conv = 3"
      ],
      "execution_count": 3,
      "outputs": []
    },
    {
      "cell_type": "markdown",
      "metadata": {
        "id": "e10Du2o2OVVw"
      },
      "source": [
        "## Load and Pre-process Data"
      ]
    },
    {
      "cell_type": "code",
      "metadata": {
        "id": "6F3rkNejICwR",
        "outputId": "58f30de1-bc0b-4162-9cfa-2094e7457b5b",
        "colab": {
          "base_uri": "https://localhost:8080/"
        }
      },
      "source": [
        "(X_train, y_train), (X_valid, y_valid) = imdb.load_data(num_words=n_unique_words)\n",
        "X_train = pad_sequences(X_train, maxlen=max_review_length, padding=pad_type, truncating=trunc_type, value=0)\n",
        "X_valid = pad_sequences(X_valid, maxlen=max_review_length, padding=pad_type, truncating=trunc_type, value=0)"
      ],
      "execution_count": 4,
      "outputs": [
        {
          "output_type": "stream",
          "text": [
            "Downloading data from https://storage.googleapis.com/tensorflow/tf-keras-datasets/imdb.npz\n",
            "17465344/17464789 [==============================] - 0s 0us/step\n"
          ],
          "name": "stdout"
        }
      ]
    },
    {
      "cell_type": "markdown",
      "metadata": {
        "id": "_s9GX24POa47"
      },
      "source": [
        "## Design Convolution Network Architecture"
      ]
    },
    {
      "cell_type": "code",
      "metadata": {
        "id": "60oeXcQdIMti"
      },
      "source": [
        "model = Sequential()\n",
        "model.add(Embedding(n_unique_words, n_dim, input_length=max_review_length))\n",
        "model.add(SpatialDropout1D(drop_embed))\n",
        "model.add(Conv1D(n_conv, k_conv, activation='relu'))\n",
        "model.add(GlobalMaxPool1D())\n",
        "model.add(Dense(n_dense, activation='relu'))\n",
        "model.add(Dropout(dropout))\n",
        "model.add(Dense(1, activation='sigmoid'))"
      ],
      "execution_count": 5,
      "outputs": []
    },
    {
      "cell_type": "markdown",
      "metadata": {
        "id": "LVpXw74AOmG-"
      },
      "source": [
        "## Check Model Summary"
      ]
    },
    {
      "cell_type": "code",
      "metadata": {
        "id": "CrfBNt18I2DG",
        "outputId": "45c2485e-8c4a-4d3d-fb76-06d7213b7bfb",
        "colab": {
          "base_uri": "https://localhost:8080/"
        }
      },
      "source": [
        "print(model.summary())"
      ],
      "execution_count": 6,
      "outputs": [
        {
          "output_type": "stream",
          "text": [
            "Model: \"sequential\"\n",
            "_________________________________________________________________\n",
            "Layer (type)                 Output Shape              Param #   \n",
            "=================================================================\n",
            "embedding (Embedding)        (None, 200, 64)           320000    \n",
            "_________________________________________________________________\n",
            "spatial_dropout1d (SpatialDr (None, 200, 64)           0         \n",
            "_________________________________________________________________\n",
            "conv1d (Conv1D)              (None, 198, 256)          49408     \n",
            "_________________________________________________________________\n",
            "global_max_pooling1d (Global (None, 256)               0         \n",
            "_________________________________________________________________\n",
            "dense (Dense)                (None, 256)               65792     \n",
            "_________________________________________________________________\n",
            "dropout (Dropout)            (None, 256)               0         \n",
            "_________________________________________________________________\n",
            "dense_1 (Dense)              (None, 1)                 257       \n",
            "=================================================================\n",
            "Total params: 435,457\n",
            "Trainable params: 435,457\n",
            "Non-trainable params: 0\n",
            "_________________________________________________________________\n",
            "None\n"
          ],
          "name": "stdout"
        }
      ]
    },
    {
      "cell_type": "markdown",
      "metadata": {
        "id": "f9FDuU0kOpP0"
      },
      "source": [
        "## Create Model Checkpoint"
      ]
    },
    {
      "cell_type": "code",
      "metadata": {
        "id": "ro_lzIwpI8lC"
      },
      "source": [
        "modelcheckpoint = ModelCheckpoint(filepath=output_dir+'/weights.{epoch:02d}.hdf5')\n",
        "if not os.path.exists(output_dir):\n",
        "    os.makedirs(output_dir)"
      ],
      "execution_count": 7,
      "outputs": []
    },
    {
      "cell_type": "markdown",
      "metadata": {
        "id": "bnbnbmcCOv30"
      },
      "source": [
        "## Compile the Model"
      ]
    },
    {
      "cell_type": "code",
      "metadata": {
        "id": "Unv39Sl1JEGd"
      },
      "source": [
        "model.compile(loss='binary_crossentropy', optimizer='adam', metrics=['accuracy'])"
      ],
      "execution_count": 8,
      "outputs": []
    },
    {
      "cell_type": "markdown",
      "metadata": {
        "id": "9mCGntEUOyRq"
      },
      "source": [
        "## Train Model"
      ]
    },
    {
      "cell_type": "code",
      "metadata": {
        "id": "Rm1OMbnvJJ-q",
        "outputId": "dc42e712-6a97-4f7e-c18f-0646620f1040",
        "colab": {
          "base_uri": "https://localhost:8080/"
        }
      },
      "source": [
        "model.fit(X_train, y_train, batch_size=batch_size, epochs=epochs, verbose=1, validation_split=.20, callbacks=[modelcheckpoint])"
      ],
      "execution_count": 9,
      "outputs": [
        {
          "output_type": "stream",
          "text": [
            "Epoch 1/4\n",
            "157/157 [==============================] - 35s 221ms/step - loss: 0.5424 - accuracy: 0.6938 - val_loss: 0.3342 - val_accuracy: 0.8556\n",
            "Epoch 2/4\n",
            "157/157 [==============================] - 35s 222ms/step - loss: 0.2795 - accuracy: 0.8818 - val_loss: 0.2815 - val_accuracy: 0.8838\n",
            "Epoch 3/4\n",
            "157/157 [==============================] - 34s 220ms/step - loss: 0.1906 - accuracy: 0.9263 - val_loss: 0.2856 - val_accuracy: 0.8910\n",
            "Epoch 4/4\n",
            "157/157 [==============================] - 35s 221ms/step - loss: 0.1242 - accuracy: 0.9556 - val_loss: 0.3084 - val_accuracy: 0.8884\n"
          ],
          "name": "stdout"
        },
        {
          "output_type": "execute_result",
          "data": {
            "text/plain": [
              "<tensorflow.python.keras.callbacks.History at 0x7fd53544f710>"
            ]
          },
          "metadata": {
            "tags": []
          },
          "execution_count": 9
        }
      ]
    },
    {
      "cell_type": "markdown",
      "metadata": {
        "id": "O2qf8tzGO1V-"
      },
      "source": [
        "## Load best weights and Predict"
      ]
    },
    {
      "cell_type": "code",
      "metadata": {
        "id": "VOC3i3VEJPLh"
      },
      "source": [
        "# In my case it was the fourth one: 'weights.04.hdf5'\n",
        "model.load_weights(output_dir+'/weights.04.hdf5')\n",
        "\n",
        "y_hat = model.predict(X_valid)"
      ],
      "execution_count": 10,
      "outputs": []
    },
    {
      "cell_type": "markdown",
      "metadata": {
        "id": "Vaa5aAfzO5vx"
      },
      "source": [
        "## Plot a Histogram based on Predictions"
      ]
    },
    {
      "cell_type": "code",
      "metadata": {
        "id": "zj23TMniJ-YM",
        "outputId": "97bd1613-5436-423b-e9c3-e15ff6bc39f4",
        "colab": {
          "base_uri": "https://localhost:8080/",
          "height": 265
        }
      },
      "source": [
        "# Plot the predicted probabilities\n",
        "plt.hist(y_hat)\n",
        "_ = plt.axvline(x=0.5, color='orange')"
      ],
      "execution_count": 11,
      "outputs": [
        {
          "output_type": "display_data",
          "data": {
            "image/png": "[encoded data removed]",
            "text/plain": [
              "<Figure size 432x288 with 1 Axes>"
            ]
          },
          "metadata": {
            "tags": [],
            "needs_background": "light"
          }
        }
      ]
    },
    {
      "cell_type": "code",
      "metadata": {
        "id": "l81dITRFKFOy"
      },
      "source": [
        ""
      ],
      "execution_count": 11,
      "outputs": []
    }
  ]
}